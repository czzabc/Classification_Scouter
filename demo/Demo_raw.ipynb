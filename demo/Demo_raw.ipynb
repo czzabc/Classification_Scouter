{
 "cells": [
  {
   "cell_type": "markdown",
   "id": "1565cc87-8eff-48f6-b70d-4461b649749d",
   "metadata": {},
   "source": [
    "This notebook presents an application of `Scouter` to a **smaller version** of the [Adamson](https://www.sciencedirect.com/science/article/pii/S0092867416316609) dataset, including 86 one-gene perturbations generated using Perturb-seq. Compared to the original Adamson dataset, each perturbation group (except for the control group) in this demo version is downsampled to contain less than 300 cells.\n",
    "\n",
    "To use your own dataset, please refer to the [OwnDataTutorial](OwnDataTutorial.ipynb)."
   ]
  },
  {
   "cell_type": "markdown",
   "id": "e8463d2b-6bc8-4b11-8dc3-004789323c1f",
   "metadata": {},
   "source": [
    "# 1. Data Setup"
   ]
  },
  {
   "cell_type": "code",
   "execution_count": 2,
   "id": "73ce30ad-bf00-4f0f-b6db-0c089ee0c138",
   "metadata": {},
   "outputs": [],
   "source": [
    "import pickle\n",
    "import torch\n",
    "import anndata as ad\n",
    "import pandas as pd\n",
    "import numpy as np\n",
    "import random\n",
    "from scouter import Scouter, ScouterData, adamson_small, embedding_small\n",
    "\n",
    "# Set seeds for reproducibility\n",
    "def set_seeds(seed=24):\n",
    "    np.random.seed(seed)\n",
    "    random.seed(seed)\n",
    "    torch.manual_seed(seed)\n",
    "    if torch.cuda.is_available():\n",
    "        torch.cuda.manual_seed_all(seed)\n",
    "set_seeds(24)"
   ]
  },
  {
   "cell_type": "markdown",
   "id": "0b8dc0bf-38f2-4086-b2dc-8228ffe6cc50",
   "metadata": {},
   "source": [
    "### a) Load the demo scRNA-seq dataset as Anndata"
   ]
  },
  {
   "cell_type": "code",
   "execution_count": 3,
   "id": "5873d739-cc44-454e-8569-2d79d90f4f3d",
   "metadata": {},
   "outputs": [
    {
     "name": "stdout",
     "output_type": "stream",
     "text": [
      "Adamson_small.h5ad.gz already available and uncompressed.\n",
      "AnnData object with n_obs × n_vars = 28409 × 5060\n",
      "    obs: 'condition'\n",
      "    var: 'gene_name'\n"
     ]
    }
   ],
   "source": [
    "adata = adamson_small()\n",
    "print(adata)"
   ]
  },
  {
   "cell_type": "code",
   "execution_count": 13,
   "id": "83dbed53-5002-443f-b27c-024b72d00c88",
   "metadata": {},
   "outputs": [
    {
     "name": "stdout",
     "output_type": "stream",
     "text": [
      "condition\n",
      "ctrl            3000\n",
      "SEC61A1+ctrl     300\n",
      "SOCS1+ctrl       300\n",
      "SLMO2+ctrl       300\n",
      "SLC39A7+ctrl     300\n",
      "                ... \n",
      "HARS+ctrl        272\n",
      "CAD+ctrl         242\n",
      "COPZ1+ctrl       220\n",
      "PPWD1+ctrl       190\n",
      "COPB1+ctrl       185\n",
      "Name: count, Length: 87, dtype: int64\n"
     ]
    }
   ],
   "source": [
    "# check the number of cells under each genetic perturbation\n",
    "print(adata.obs.condition.value_counts())"
   ]
  },
  {
   "cell_type": "markdown",
   "id": "9440c17c-f51e-4d16-9efe-54d02ed8100f",
   "metadata": {},
   "source": [
    "### b) Load the demo gene embedding matrix as as a `pandas.DataFrame`"
   ]
  },
  {
   "cell_type": "markdown",
   "id": "33dd818b-8bc5-44ed-b6bc-a19bea3d1750",
   "metadata": {},
   "source": [
    "Note that the embedding matrix contains an extra row of zeros for `'ctrl'`, for the generalization that `'GeneA+ctrl'` denotes a one-gene perturbation but `'GeneA+GeneB'` denotes a two-gene perturbation."
   ]
  },
  {
   "cell_type": "code",
   "execution_count": 14,
   "id": "c5aba3eb-cf90-4449-b566-12b335ba2341",
   "metadata": {},
   "outputs": [
    {
     "name": "stdout",
     "output_type": "stream",
     "text": [
      "Embedding_small.csv.gz already available and uncompressed.\n"
     ]
    },
    {
     "data": {
      "text/html": [
       "<div>\n",
       "<style scoped>\n",
       "    .dataframe tbody tr th:only-of-type {\n",
       "        vertical-align: middle;\n",
       "    }\n",
       "\n",
       "    .dataframe tbody tr th {\n",
       "        vertical-align: top;\n",
       "    }\n",
       "\n",
       "    .dataframe thead th {\n",
       "        text-align: right;\n",
       "    }\n",
       "</style>\n",
       "<table border=\"1\" class=\"dataframe\">\n",
       "  <thead>\n",
       "    <tr style=\"text-align: right;\">\n",
       "      <th></th>\n",
       "      <th>0</th>\n",
       "      <th>1</th>\n",
       "      <th>2</th>\n",
       "      <th>3</th>\n",
       "      <th>4</th>\n",
       "      <th>5</th>\n",
       "      <th>6</th>\n",
       "      <th>7</th>\n",
       "      <th>8</th>\n",
       "      <th>9</th>\n",
       "      <th>...</th>\n",
       "      <th>1526</th>\n",
       "      <th>1527</th>\n",
       "      <th>1528</th>\n",
       "      <th>1529</th>\n",
       "      <th>1530</th>\n",
       "      <th>1531</th>\n",
       "      <th>1532</th>\n",
       "      <th>1533</th>\n",
       "      <th>1534</th>\n",
       "      <th>1535</th>\n",
       "    </tr>\n",
       "  </thead>\n",
       "  <tbody>\n",
       "    <tr>\n",
       "      <th>ctrl</th>\n",
       "      <td>0.000000</td>\n",
       "      <td>0.000000</td>\n",
       "      <td>0.000000</td>\n",
       "      <td>0.000000</td>\n",
       "      <td>0.000000</td>\n",
       "      <td>0.000000</td>\n",
       "      <td>0.000000</td>\n",
       "      <td>0.000000</td>\n",
       "      <td>0.000000</td>\n",
       "      <td>0.000000</td>\n",
       "      <td>...</td>\n",
       "      <td>0.000000</td>\n",
       "      <td>0.000000</td>\n",
       "      <td>0.000000</td>\n",
       "      <td>0.000000</td>\n",
       "      <td>0.000000</td>\n",
       "      <td>0.000000</td>\n",
       "      <td>0.000000</td>\n",
       "      <td>0.000000</td>\n",
       "      <td>0.000000</td>\n",
       "      <td>0.000000</td>\n",
       "    </tr>\n",
       "    <tr>\n",
       "      <th>AMIGO3</th>\n",
       "      <td>-0.036371</td>\n",
       "      <td>-0.012894</td>\n",
       "      <td>-0.008276</td>\n",
       "      <td>-0.010909</td>\n",
       "      <td>-0.012836</td>\n",
       "      <td>0.011137</td>\n",
       "      <td>-0.015494</td>\n",
       "      <td>0.028140</td>\n",
       "      <td>-0.021621</td>\n",
       "      <td>-0.006081</td>\n",
       "      <td>...</td>\n",
       "      <td>0.026586</td>\n",
       "      <td>0.010099</td>\n",
       "      <td>-0.007714</td>\n",
       "      <td>-0.019805</td>\n",
       "      <td>-0.011457</td>\n",
       "      <td>0.010020</td>\n",
       "      <td>-0.006016</td>\n",
       "      <td>-0.029682</td>\n",
       "      <td>-0.012391</td>\n",
       "      <td>-0.020067</td>\n",
       "    </tr>\n",
       "    <tr>\n",
       "      <th>ARHGAP22</th>\n",
       "      <td>-0.039296</td>\n",
       "      <td>-0.005397</td>\n",
       "      <td>-0.002448</td>\n",
       "      <td>-0.011384</td>\n",
       "      <td>0.010381</td>\n",
       "      <td>0.021706</td>\n",
       "      <td>-0.020878</td>\n",
       "      <td>0.023169</td>\n",
       "      <td>-0.004333</td>\n",
       "      <td>-0.033446</td>\n",
       "      <td>...</td>\n",
       "      <td>0.015286</td>\n",
       "      <td>0.006449</td>\n",
       "      <td>0.002699</td>\n",
       "      <td>0.001115</td>\n",
       "      <td>-0.010607</td>\n",
       "      <td>0.022638</td>\n",
       "      <td>0.014678</td>\n",
       "      <td>-0.022975</td>\n",
       "      <td>-0.010355</td>\n",
       "      <td>0.012594</td>\n",
       "    </tr>\n",
       "    <tr>\n",
       "      <th>ASCC3</th>\n",
       "      <td>-0.031085</td>\n",
       "      <td>-0.010019</td>\n",
       "      <td>0.003282</td>\n",
       "      <td>-0.032561</td>\n",
       "      <td>-0.021830</td>\n",
       "      <td>0.036568</td>\n",
       "      <td>-0.007527</td>\n",
       "      <td>0.035066</td>\n",
       "      <td>-0.004436</td>\n",
       "      <td>-0.006394</td>\n",
       "      <td>...</td>\n",
       "      <td>0.042896</td>\n",
       "      <td>0.000460</td>\n",
       "      <td>-0.010184</td>\n",
       "      <td>-0.002066</td>\n",
       "      <td>-0.021369</td>\n",
       "      <td>0.011139</td>\n",
       "      <td>-0.003414</td>\n",
       "      <td>-0.014066</td>\n",
       "      <td>0.001287</td>\n",
       "      <td>-0.013881</td>\n",
       "    </tr>\n",
       "    <tr>\n",
       "      <th>BHLHE40</th>\n",
       "      <td>-0.041393</td>\n",
       "      <td>0.003781</td>\n",
       "      <td>-0.015254</td>\n",
       "      <td>-0.030586</td>\n",
       "      <td>-0.027794</td>\n",
       "      <td>0.007789</td>\n",
       "      <td>-0.013703</td>\n",
       "      <td>0.018990</td>\n",
       "      <td>-0.028880</td>\n",
       "      <td>-0.005607</td>\n",
       "      <td>...</td>\n",
       "      <td>0.014078</td>\n",
       "      <td>-0.008674</td>\n",
       "      <td>0.013380</td>\n",
       "      <td>0.005016</td>\n",
       "      <td>0.000319</td>\n",
       "      <td>0.006202</td>\n",
       "      <td>-0.017620</td>\n",
       "      <td>-0.006283</td>\n",
       "      <td>-0.000229</td>\n",
       "      <td>-0.006974</td>\n",
       "    </tr>\n",
       "    <tr>\n",
       "      <th>...</th>\n",
       "      <td>...</td>\n",
       "      <td>...</td>\n",
       "      <td>...</td>\n",
       "      <td>...</td>\n",
       "      <td>...</td>\n",
       "      <td>...</td>\n",
       "      <td>...</td>\n",
       "      <td>...</td>\n",
       "      <td>...</td>\n",
       "      <td>...</td>\n",
       "      <td>...</td>\n",
       "      <td>...</td>\n",
       "      <td>...</td>\n",
       "      <td>...</td>\n",
       "      <td>...</td>\n",
       "      <td>...</td>\n",
       "      <td>...</td>\n",
       "      <td>...</td>\n",
       "      <td>...</td>\n",
       "      <td>...</td>\n",
       "      <td>...</td>\n",
       "    </tr>\n",
       "    <tr>\n",
       "      <th>MARS</th>\n",
       "      <td>-0.040408</td>\n",
       "      <td>0.009426</td>\n",
       "      <td>-0.007601</td>\n",
       "      <td>-0.009777</td>\n",
       "      <td>-0.025166</td>\n",
       "      <td>0.024144</td>\n",
       "      <td>-0.015349</td>\n",
       "      <td>0.017776</td>\n",
       "      <td>-0.025126</td>\n",
       "      <td>-0.015455</td>\n",
       "      <td>...</td>\n",
       "      <td>0.014221</td>\n",
       "      <td>0.004985</td>\n",
       "      <td>-0.003781</td>\n",
       "      <td>-0.023056</td>\n",
       "      <td>-0.031706</td>\n",
       "      <td>0.030273</td>\n",
       "      <td>0.009578</td>\n",
       "      <td>-0.026877</td>\n",
       "      <td>-0.012749</td>\n",
       "      <td>0.006417</td>\n",
       "    </tr>\n",
       "    <tr>\n",
       "      <th>SARS</th>\n",
       "      <td>-0.024092</td>\n",
       "      <td>-0.009696</td>\n",
       "      <td>-0.032192</td>\n",
       "      <td>-0.021545</td>\n",
       "      <td>-0.017698</td>\n",
       "      <td>0.031326</td>\n",
       "      <td>-0.036157</td>\n",
       "      <td>0.030853</td>\n",
       "      <td>-0.023343</td>\n",
       "      <td>-0.010195</td>\n",
       "      <td>...</td>\n",
       "      <td>0.029094</td>\n",
       "      <td>0.002806</td>\n",
       "      <td>-0.012079</td>\n",
       "      <td>-0.006919</td>\n",
       "      <td>-0.020101</td>\n",
       "      <td>0.009092</td>\n",
       "      <td>-0.010845</td>\n",
       "      <td>-0.012971</td>\n",
       "      <td>-0.020613</td>\n",
       "      <td>-0.003433</td>\n",
       "    </tr>\n",
       "    <tr>\n",
       "      <th>SRPR</th>\n",
       "      <td>-0.030122</td>\n",
       "      <td>-0.015181</td>\n",
       "      <td>-0.001821</td>\n",
       "      <td>-0.019617</td>\n",
       "      <td>-0.007703</td>\n",
       "      <td>0.016814</td>\n",
       "      <td>-0.003739</td>\n",
       "      <td>0.018714</td>\n",
       "      <td>-0.021330</td>\n",
       "      <td>-0.011004</td>\n",
       "      <td>...</td>\n",
       "      <td>0.009045</td>\n",
       "      <td>0.014490</td>\n",
       "      <td>-0.007975</td>\n",
       "      <td>-0.022127</td>\n",
       "      <td>-0.027546</td>\n",
       "      <td>0.031504</td>\n",
       "      <td>0.002211</td>\n",
       "      <td>-0.024597</td>\n",
       "      <td>-0.013335</td>\n",
       "      <td>-0.001645</td>\n",
       "    </tr>\n",
       "    <tr>\n",
       "      <th>TARS</th>\n",
       "      <td>-0.013718</td>\n",
       "      <td>-0.041260</td>\n",
       "      <td>-0.018051</td>\n",
       "      <td>-0.032593</td>\n",
       "      <td>-0.004377</td>\n",
       "      <td>0.022544</td>\n",
       "      <td>-0.007052</td>\n",
       "      <td>0.023395</td>\n",
       "      <td>-0.010169</td>\n",
       "      <td>-0.010840</td>\n",
       "      <td>...</td>\n",
       "      <td>0.028765</td>\n",
       "      <td>0.014821</td>\n",
       "      <td>-0.012375</td>\n",
       "      <td>-0.001778</td>\n",
       "      <td>-0.008860</td>\n",
       "      <td>0.000566</td>\n",
       "      <td>-0.001836</td>\n",
       "      <td>-0.001370</td>\n",
       "      <td>-0.011226</td>\n",
       "      <td>-0.006022</td>\n",
       "    </tr>\n",
       "    <tr>\n",
       "      <th>SLMO2</th>\n",
       "      <td>-0.018120</td>\n",
       "      <td>-0.027140</td>\n",
       "      <td>0.004467</td>\n",
       "      <td>-0.011105</td>\n",
       "      <td>-0.007301</td>\n",
       "      <td>0.032616</td>\n",
       "      <td>-0.028672</td>\n",
       "      <td>0.019453</td>\n",
       "      <td>0.001370</td>\n",
       "      <td>0.000712</td>\n",
       "      <td>...</td>\n",
       "      <td>0.025808</td>\n",
       "      <td>0.001368</td>\n",
       "      <td>0.018240</td>\n",
       "      <td>-0.009360</td>\n",
       "      <td>-0.028113</td>\n",
       "      <td>0.008447</td>\n",
       "      <td>0.002062</td>\n",
       "      <td>-0.024609</td>\n",
       "      <td>0.002831</td>\n",
       "      <td>-0.024849</td>\n",
       "    </tr>\n",
       "  </tbody>\n",
       "</table>\n",
       "<p>87 rows × 1536 columns</p>\n",
       "</div>"
      ],
      "text/plain": [
       "                 0         1         2         3         4         5  \\\n",
       "ctrl      0.000000  0.000000  0.000000  0.000000  0.000000  0.000000   \n",
       "AMIGO3   -0.036371 -0.012894 -0.008276 -0.010909 -0.012836  0.011137   \n",
       "ARHGAP22 -0.039296 -0.005397 -0.002448 -0.011384  0.010381  0.021706   \n",
       "ASCC3    -0.031085 -0.010019  0.003282 -0.032561 -0.021830  0.036568   \n",
       "BHLHE40  -0.041393  0.003781 -0.015254 -0.030586 -0.027794  0.007789   \n",
       "...            ...       ...       ...       ...       ...       ...   \n",
       "MARS     -0.040408  0.009426 -0.007601 -0.009777 -0.025166  0.024144   \n",
       "SARS     -0.024092 -0.009696 -0.032192 -0.021545 -0.017698  0.031326   \n",
       "SRPR     -0.030122 -0.015181 -0.001821 -0.019617 -0.007703  0.016814   \n",
       "TARS     -0.013718 -0.041260 -0.018051 -0.032593 -0.004377  0.022544   \n",
       "SLMO2    -0.018120 -0.027140  0.004467 -0.011105 -0.007301  0.032616   \n",
       "\n",
       "                 6         7         8         9  ...      1526      1527  \\\n",
       "ctrl      0.000000  0.000000  0.000000  0.000000  ...  0.000000  0.000000   \n",
       "AMIGO3   -0.015494  0.028140 -0.021621 -0.006081  ...  0.026586  0.010099   \n",
       "ARHGAP22 -0.020878  0.023169 -0.004333 -0.033446  ...  0.015286  0.006449   \n",
       "ASCC3    -0.007527  0.035066 -0.004436 -0.006394  ...  0.042896  0.000460   \n",
       "BHLHE40  -0.013703  0.018990 -0.028880 -0.005607  ...  0.014078 -0.008674   \n",
       "...            ...       ...       ...       ...  ...       ...       ...   \n",
       "MARS     -0.015349  0.017776 -0.025126 -0.015455  ...  0.014221  0.004985   \n",
       "SARS     -0.036157  0.030853 -0.023343 -0.010195  ...  0.029094  0.002806   \n",
       "SRPR     -0.003739  0.018714 -0.021330 -0.011004  ...  0.009045  0.014490   \n",
       "TARS     -0.007052  0.023395 -0.010169 -0.010840  ...  0.028765  0.014821   \n",
       "SLMO2    -0.028672  0.019453  0.001370  0.000712  ...  0.025808  0.001368   \n",
       "\n",
       "              1528      1529      1530      1531      1532      1533  \\\n",
       "ctrl      0.000000  0.000000  0.000000  0.000000  0.000000  0.000000   \n",
       "AMIGO3   -0.007714 -0.019805 -0.011457  0.010020 -0.006016 -0.029682   \n",
       "ARHGAP22  0.002699  0.001115 -0.010607  0.022638  0.014678 -0.022975   \n",
       "ASCC3    -0.010184 -0.002066 -0.021369  0.011139 -0.003414 -0.014066   \n",
       "BHLHE40   0.013380  0.005016  0.000319  0.006202 -0.017620 -0.006283   \n",
       "...            ...       ...       ...       ...       ...       ...   \n",
       "MARS     -0.003781 -0.023056 -0.031706  0.030273  0.009578 -0.026877   \n",
       "SARS     -0.012079 -0.006919 -0.020101  0.009092 -0.010845 -0.012971   \n",
       "SRPR     -0.007975 -0.022127 -0.027546  0.031504  0.002211 -0.024597   \n",
       "TARS     -0.012375 -0.001778 -0.008860  0.000566 -0.001836 -0.001370   \n",
       "SLMO2     0.018240 -0.009360 -0.028113  0.008447  0.002062 -0.024609   \n",
       "\n",
       "              1534      1535  \n",
       "ctrl      0.000000  0.000000  \n",
       "AMIGO3   -0.012391 -0.020067  \n",
       "ARHGAP22 -0.010355  0.012594  \n",
       "ASCC3     0.001287 -0.013881  \n",
       "BHLHE40  -0.000229 -0.006974  \n",
       "...            ...       ...  \n",
       "MARS     -0.012749  0.006417  \n",
       "SARS     -0.020613 -0.003433  \n",
       "SRPR     -0.013335 -0.001645  \n",
       "TARS     -0.011226 -0.006022  \n",
       "SLMO2     0.002831 -0.024849  \n",
       "\n",
       "[87 rows x 1536 columns]"
      ]
     },
     "execution_count": 14,
     "metadata": {},
     "output_type": "execute_result"
    }
   ],
   "source": [
    "embd = embedding_small()\n",
    "embd"
   ]
  },
  {
   "cell_type": "markdown",
   "id": "ec0255dc-9c20-43ef-b920-22ca2e500ad9",
   "metadata": {},
   "source": [
    "# 2. Data Loader"
   ]
  },
  {
   "cell_type": "markdown",
   "id": "a31fdc8a-abbc-43ec-999b-f7c6492e2847",
   "metadata": {},
   "source": [
    "`ScouterData` is a dataloader that combiens the gene expression and gene embeddigns together, and prepares the training of `Scouter`. The function takes as input:\n",
    "- `adata`: the adata object that contains gene expression and cell annotations\n",
    "- `embd`: the dataframe that contains ge\n",
    "- `key_label`: The column name of `adata.obs` that corresponds to perturbation conditions\n",
    "- `key_var_genename`: The column name of `adata.var` that corresponds to gene names. This is for readability of plots later, where you can show genes in their names instead of index or ensembl ids."
   ]
  },
  {
   "cell_type": "code",
   "execution_count": 15,
   "id": "226d350f-95d7-4a4b-9cc0-d773117813ba",
   "metadata": {},
   "outputs": [],
   "source": [
    "scouterdata = ScouterData(adata=adata, embd=embd, key_label='condition', key_var_genename='gene_name')"
   ]
  },
  {
   "cell_type": "markdown",
   "id": "42481a20-6854-4e90-8851-994ccbe1916e",
   "metadata": {},
   "source": [
    "We perform the follwing necessary preprocessing for the smooth training of `Scouter` later:\n",
    "- `ScouterData.setup_ad(key_embd_index)`: Setup `adata` and `embd`.\n",
    "        `embd` will be filtered so that it only contains the matched genes to save memory usage.\n",
    "        `adata` will drop the perturbation conditions not covered by matched genes.\n",
    "        A new column named `key_embd_index` will be added to `adata.obs`, denoting the index of perturbed genes in `embd`.\n",
    "\n",
    "- `ScouterData.gene_ranks()`: Rank genes for each perturbation group. Saved as a dictionary in `adata.uns['rank_genes_groups']`. We need this step for model measurement, because we only calculate the metric across top20 DEGs.\n",
    "\n",
    "- `ScouterData.get_dropout_non_zero_genes()`: Compute the non-zero genes and top 20 differentially expressed genes for each perturbation group. We perform this step because in the loss function of `Scouter`, we only calculate the loss on non-zeros of each group.\n",
    "\n",
    "- `ScouterData.split_Train_Val_Test(seed)`: split the data into three sets: Training, Validation, and Testing, based on the random seed `seed`."
   ]
  },
  {
   "cell_type": "code",
   "execution_count": 16,
   "id": "549d8165-3e0f-4835-8402-90a7266cc6d6",
   "metadata": {},
   "outputs": [
    {
     "name": "stdout",
     "output_type": "stream",
     "text": [
      "All 87 perturbed genes are found in the gene embedding matrix!\n"
     ]
    }
   ],
   "source": [
    "scouterdata.setup_ad('embd_index')\n",
    "scouterdata.gene_ranks()\n",
    "scouterdata.get_dropout_non_zero_genes()\n",
    "scouterdata.split_Train_Val_Test(seed=1)"
   ]
  },
  {
   "cell_type": "markdown",
   "id": "4657d4fb-8fcf-48e3-878f-acf2e3987663",
   "metadata": {},
   "source": [
    "## 3. `Scouter` Training"
   ]
  },
  {
   "cell_type": "markdown",
   "id": "8d6c5f10-17f1-406f-ada5-bc4afd40222b",
   "metadata": {},
   "source": [
    "We train `Scouter` model on `scouterdata`. This is a supervised training, so we would recommend a hyperparameter searching based on the metrics on validation set for both `Scouter.model_init()` and `Scouter.train()`. However, across the experiments on five different datasets in our work, we notice most hyparameters are not sensitive. Therefore, users are welcome to start with our default parameters. For a efficient searching, we recommend targeting on these parameters:\n",
    "- `loss_gamma` in `Scouter.train()`: $\\gamma$ in $L_\\text{autofocus}$. `loss_gamma=0` denotes MSE loss. `loss_gamma=0` returns the best result on all five datasets in our work.\n",
    "- `loss_lambda` in `Scouter.train()`: $\\lambda$ in $L=L_\\text{autofocus}+\\lambda L_\\text{direnction}$\n",
    "- `lr` in `Scouter.train()`: learning rate\n",
    "- gene embedding source: In this example, we use the embeddings provided by [GenePT](https://github.com/yiqunchen/GenePT). However, there are some other embeddings available online. The author of [scELMo](https://sites.google.com/yale.edu/scelmolib) collected a series of embeddings for biological terms."
   ]
  },
  {
   "cell_type": "code",
   "execution_count": 17,
   "id": "bd35c898-b125-4b70-9ada-81e868ce62a1",
   "metadata": {},
   "outputs": [
    {
     "name": "stderr",
     "output_type": "stream",
     "text": [
      "Epoch 1/40 - Training Batches: 100%|██████████| 71/71 [00:13<00:00,  5.29batch/s]\n",
      "Epoch 1/40 - Validation Batches: 100%|██████████| 9/9 [00:00<00:00, 29.56batch/s]\n"
     ]
    },
    {
     "name": "stdout",
     "output_type": "stream",
     "text": [
      "Epoch 1/40, Training Loss: 0.8399, Validation Loss: 0.6805\n"
     ]
    },
    {
     "name": "stderr",
     "output_type": "stream",
     "text": [
      "Epoch 2/40 - Training Batches: 100%|██████████| 71/71 [00:13<00:00,  5.38batch/s]\n",
      "Epoch 2/40 - Validation Batches: 100%|██████████| 9/9 [00:00<00:00, 31.39batch/s]\n"
     ]
    },
    {
     "name": "stdout",
     "output_type": "stream",
     "text": [
      "Epoch 2/40, Training Loss: 0.6206, Validation Loss: 0.6125\n"
     ]
    },
    {
     "name": "stderr",
     "output_type": "stream",
     "text": [
      "Epoch 3/40 - Training Batches: 100%|██████████| 71/71 [00:13<00:00,  5.39batch/s]\n",
      "Epoch 3/40 - Validation Batches: 100%|██████████| 9/9 [00:00<00:00, 31.03batch/s]\n"
     ]
    },
    {
     "name": "stdout",
     "output_type": "stream",
     "text": [
      "Epoch 3/40, Training Loss: 0.6027, Validation Loss: 0.6033\n"
     ]
    },
    {
     "name": "stderr",
     "output_type": "stream",
     "text": [
      "Epoch 4/40 - Training Batches: 100%|██████████| 71/71 [00:13<00:00,  5.46batch/s]\n",
      "Epoch 4/40 - Validation Batches: 100%|██████████| 9/9 [00:00<00:00, 31.01batch/s]\n"
     ]
    },
    {
     "name": "stdout",
     "output_type": "stream",
     "text": [
      "Epoch 4/40, Training Loss: 0.6009, Validation Loss: 0.6111\n"
     ]
    },
    {
     "name": "stderr",
     "output_type": "stream",
     "text": [
      "Epoch 5/40 - Training Batches: 100%|██████████| 71/71 [00:13<00:00,  5.45batch/s]\n",
      "Epoch 5/40 - Validation Batches: 100%|██████████| 9/9 [00:00<00:00, 30.69batch/s]\n"
     ]
    },
    {
     "name": "stdout",
     "output_type": "stream",
     "text": [
      "Epoch 5/40, Training Loss: 0.5991, Validation Loss: 0.6011\n"
     ]
    },
    {
     "name": "stderr",
     "output_type": "stream",
     "text": [
      "Epoch 6/40 - Training Batches: 100%|██████████| 71/71 [00:13<00:00,  5.41batch/s]\n",
      "Epoch 6/40 - Validation Batches: 100%|██████████| 9/9 [00:00<00:00, 29.31batch/s]\n"
     ]
    },
    {
     "name": "stdout",
     "output_type": "stream",
     "text": [
      "Epoch 6/40, Training Loss: 0.5945, Validation Loss: 0.6007\n"
     ]
    },
    {
     "name": "stderr",
     "output_type": "stream",
     "text": [
      "Epoch 7/40 - Training Batches: 100%|██████████| 71/71 [00:13<00:00,  5.44batch/s]\n",
      "Epoch 7/40 - Validation Batches: 100%|██████████| 9/9 [00:00<00:00, 30.84batch/s]\n"
     ]
    },
    {
     "name": "stdout",
     "output_type": "stream",
     "text": [
      "Epoch 7/40, Training Loss: 0.5929, Validation Loss: 0.5990\n"
     ]
    },
    {
     "name": "stderr",
     "output_type": "stream",
     "text": [
      "Epoch 8/40 - Training Batches: 100%|██████████| 71/71 [00:13<00:00,  5.36batch/s]\n",
      "Epoch 8/40 - Validation Batches: 100%|██████████| 9/9 [00:00<00:00, 31.63batch/s]\n"
     ]
    },
    {
     "name": "stdout",
     "output_type": "stream",
     "text": [
      "Epoch 8/40, Training Loss: 0.5922, Validation Loss: 0.5985\n"
     ]
    },
    {
     "name": "stderr",
     "output_type": "stream",
     "text": [
      "Epoch 9/40 - Training Batches: 100%|██████████| 71/71 [00:13<00:00,  5.37batch/s]\n",
      "Epoch 9/40 - Validation Batches: 100%|██████████| 9/9 [00:00<00:00, 31.38batch/s]\n"
     ]
    },
    {
     "name": "stdout",
     "output_type": "stream",
     "text": [
      "Epoch 9/40, Training Loss: 0.5902, Validation Loss: 0.5979\n"
     ]
    },
    {
     "name": "stderr",
     "output_type": "stream",
     "text": [
      "Epoch 10/40 - Training Batches: 100%|██████████| 71/71 [00:13<00:00,  5.44batch/s]\n",
      "Epoch 10/40 - Validation Batches: 100%|██████████| 9/9 [00:00<00:00, 31.52batch/s]\n"
     ]
    },
    {
     "name": "stdout",
     "output_type": "stream",
     "text": [
      "Epoch 10/40, Training Loss: 0.5897, Validation Loss: 0.5964\n"
     ]
    },
    {
     "name": "stderr",
     "output_type": "stream",
     "text": [
      "Epoch 11/40 - Training Batches: 100%|██████████| 71/71 [00:13<00:00,  5.39batch/s]\n",
      "Epoch 11/40 - Validation Batches: 100%|██████████| 9/9 [00:00<00:00, 31.62batch/s]\n"
     ]
    },
    {
     "name": "stdout",
     "output_type": "stream",
     "text": [
      "Epoch 11/40, Training Loss: 0.5893, Validation Loss: 0.5958\n"
     ]
    },
    {
     "name": "stderr",
     "output_type": "stream",
     "text": [
      "Epoch 12/40 - Training Batches: 100%|██████████| 71/71 [00:13<00:00,  5.37batch/s]\n",
      "Epoch 12/40 - Validation Batches: 100%|██████████| 9/9 [00:00<00:00, 31.39batch/s]\n"
     ]
    },
    {
     "name": "stdout",
     "output_type": "stream",
     "text": [
      "Epoch 12/40, Training Loss: 0.5866, Validation Loss: 0.5963\n"
     ]
    },
    {
     "name": "stderr",
     "output_type": "stream",
     "text": [
      "Epoch 13/40 - Training Batches: 100%|██████████| 71/71 [00:13<00:00,  5.37batch/s]\n",
      "Epoch 13/40 - Validation Batches: 100%|██████████| 9/9 [00:00<00:00, 31.27batch/s]\n"
     ]
    },
    {
     "name": "stdout",
     "output_type": "stream",
     "text": [
      "Epoch 13/40, Training Loss: 0.5867, Validation Loss: 0.5943\n"
     ]
    },
    {
     "name": "stderr",
     "output_type": "stream",
     "text": [
      "Epoch 14/40 - Training Batches: 100%|██████████| 71/71 [00:13<00:00,  5.24batch/s]\n",
      "Epoch 14/40 - Validation Batches: 100%|██████████| 9/9 [00:00<00:00, 30.85batch/s]\n"
     ]
    },
    {
     "name": "stdout",
     "output_type": "stream",
     "text": [
      "Epoch 14/40, Training Loss: 0.5858, Validation Loss: 0.5945\n"
     ]
    },
    {
     "name": "stderr",
     "output_type": "stream",
     "text": [
      "Epoch 15/40 - Training Batches: 100%|██████████| 71/71 [00:13<00:00,  5.36batch/s]\n",
      "Epoch 15/40 - Validation Batches: 100%|██████████| 9/9 [00:00<00:00, 28.09batch/s]\n"
     ]
    },
    {
     "name": "stdout",
     "output_type": "stream",
     "text": [
      "Epoch 15/40, Training Loss: 0.5848, Validation Loss: 0.5944\n"
     ]
    },
    {
     "name": "stderr",
     "output_type": "stream",
     "text": [
      "Epoch 16/40 - Training Batches: 100%|██████████| 71/71 [00:13<00:00,  5.45batch/s]\n",
      "Epoch 16/40 - Validation Batches: 100%|██████████| 9/9 [00:00<00:00, 30.67batch/s]\n"
     ]
    },
    {
     "name": "stdout",
     "output_type": "stream",
     "text": [
      "Epoch 16/40, Training Loss: 0.5845, Validation Loss: 0.5929\n"
     ]
    },
    {
     "name": "stderr",
     "output_type": "stream",
     "text": [
      "Epoch 17/40 - Training Batches: 100%|██████████| 71/71 [00:13<00:00,  5.34batch/s]\n",
      "Epoch 17/40 - Validation Batches: 100%|██████████| 9/9 [00:00<00:00, 28.87batch/s]\n"
     ]
    },
    {
     "name": "stdout",
     "output_type": "stream",
     "text": [
      "Epoch 17/40, Training Loss: 0.5844, Validation Loss: 0.5939\n"
     ]
    },
    {
     "name": "stderr",
     "output_type": "stream",
     "text": [
      "Epoch 18/40 - Training Batches: 100%|██████████| 71/71 [1:01:09<00:00, 51.68s/batch]    \n",
      "Epoch 18/40 - Validation Batches: 100%|██████████| 9/9 [00:00<00:00, 28.14batch/s]\n"
     ]
    },
    {
     "name": "stdout",
     "output_type": "stream",
     "text": [
      "Epoch 18/40, Training Loss: 0.5839, Validation Loss: 0.5927\n"
     ]
    },
    {
     "name": "stderr",
     "output_type": "stream",
     "text": [
      "Epoch 19/40 - Training Batches: 100%|██████████| 71/71 [00:13<00:00,  5.29batch/s]\n",
      "Epoch 19/40 - Validation Batches: 100%|██████████| 9/9 [00:00<00:00, 31.05batch/s]\n"
     ]
    },
    {
     "name": "stdout",
     "output_type": "stream",
     "text": [
      "Epoch 19/40, Training Loss: 0.5833, Validation Loss: 0.5923\n"
     ]
    },
    {
     "name": "stderr",
     "output_type": "stream",
     "text": [
      "Epoch 20/40 - Training Batches: 100%|██████████| 71/71 [00:13<00:00,  5.33batch/s]\n",
      "Epoch 20/40 - Validation Batches: 100%|██████████| 9/9 [00:00<00:00, 30.85batch/s]\n"
     ]
    },
    {
     "name": "stdout",
     "output_type": "stream",
     "text": [
      "Epoch 20/40, Training Loss: 0.5825, Validation Loss: 0.5914\n"
     ]
    },
    {
     "name": "stderr",
     "output_type": "stream",
     "text": [
      "Epoch 21/40 - Training Batches: 100%|██████████| 71/71 [00:13<00:00,  5.35batch/s]\n",
      "Epoch 21/40 - Validation Batches: 100%|██████████| 9/9 [00:00<00:00, 30.37batch/s]\n"
     ]
    },
    {
     "name": "stdout",
     "output_type": "stream",
     "text": [
      "Epoch 21/40, Training Loss: 0.5825, Validation Loss: 0.5912\n"
     ]
    },
    {
     "name": "stderr",
     "output_type": "stream",
     "text": [
      "Epoch 22/40 - Training Batches: 100%|██████████| 71/71 [00:13<00:00,  5.39batch/s]\n",
      "Epoch 22/40 - Validation Batches: 100%|██████████| 9/9 [00:00<00:00, 31.13batch/s]\n"
     ]
    },
    {
     "name": "stdout",
     "output_type": "stream",
     "text": [
      "Epoch 22/40, Training Loss: 0.5821, Validation Loss: 0.5912\n"
     ]
    },
    {
     "name": "stderr",
     "output_type": "stream",
     "text": [
      "Epoch 23/40 - Training Batches: 100%|██████████| 71/71 [00:13<00:00,  5.40batch/s]\n",
      "Epoch 23/40 - Validation Batches: 100%|██████████| 9/9 [00:00<00:00, 30.63batch/s]\n"
     ]
    },
    {
     "name": "stdout",
     "output_type": "stream",
     "text": [
      "Epoch 23/40, Training Loss: 0.5816, Validation Loss: 0.5907\n"
     ]
    },
    {
     "name": "stderr",
     "output_type": "stream",
     "text": [
      "Epoch 24/40 - Training Batches: 100%|██████████| 71/71 [00:34<00:00,  2.09batch/s]\n",
      "Epoch 24/40 - Validation Batches: 100%|██████████| 9/9 [00:00<00:00, 27.86batch/s]\n"
     ]
    },
    {
     "name": "stdout",
     "output_type": "stream",
     "text": [
      "Epoch 24/40, Training Loss: 0.5816, Validation Loss: 0.5904\n"
     ]
    },
    {
     "name": "stderr",
     "output_type": "stream",
     "text": [
      "Epoch 25/40 - Training Batches: 100%|██████████| 71/71 [00:13<00:00,  5.13batch/s]\n",
      "Epoch 25/40 - Validation Batches: 100%|██████████| 9/9 [00:00<00:00, 30.17batch/s]\n"
     ]
    },
    {
     "name": "stdout",
     "output_type": "stream",
     "text": [
      "Epoch 25/40, Training Loss: 0.5813, Validation Loss: 0.5906\n",
      "Early stopping after 25 epochs\n"
     ]
    }
   ],
   "source": [
    "scouter_model = Scouter(scouterdata)\n",
    "scouter_model.model_init()\n",
    "scouter_model.train()"
   ]
  },
  {
   "cell_type": "markdown",
   "id": "6c931641-4a70-454b-9b8b-2a06a44a7d8e",
   "metadata": {},
   "source": [
    " "
   ]
  },
  {
   "cell_type": "markdown",
   "id": "2629caca-9050-40b9-925e-417869206b32",
   "metadata": {},
   "source": [
    "## 4. Model Prediction"
   ]
  },
  {
   "cell_type": "markdown",
   "id": "32b14b7f-f85a-402f-acdf-17baf99eee89",
   "metadata": {},
   "source": [
    "To make predictions on specific gene perturbations, we can use `Scouter.pred` with parameters:\n",
    "- `pert_list`: a list of perturation names for prediction\n",
    "- `n_pred`: how many control cells sampled to make the prediction. The resulting prediciton matrix for each perturbation would have shape of `[n_pred, n_genes]`\n",
    "- `seed`: reproduce the prediction result by setting a seed.\n",
    "\n",
    "It returns a dictionary with perturbation as keys, and the corresponding predicted transcriptome as values.\n",
    "Users may average aggregation to achieve a point estimator such as `pred_dict['ATP5B+ctrl'].mean(axis=0)`"
   ]
  },
  {
   "cell_type": "code",
   "execution_count": 18,
   "id": "14e0c81d-0063-4427-a6b6-a3778d39bd68",
   "metadata": {},
   "outputs": [
    {
     "data": {
      "text/plain": [
       "array([[ 0.40422255, -0.19336961, -0.00701226, ...,  0.16937165,\n",
       "         0.13105485,  0.14708525],\n",
       "       [ 0.09983922, -0.12671472,  0.00434006, ...,  0.24315856,\n",
       "         0.0993664 ,  0.12727812],\n",
       "       [ 0.14430901, -0.08458043,  0.00345821, ...,  0.1611751 ,\n",
       "         0.09223302,  0.12244851],\n",
       "       ...,\n",
       "       [-0.15891755, -0.38045558, -0.00949772, ...,  0.23753482,\n",
       "         0.08399078,  0.12558371],\n",
       "       [-0.19024323,  0.90343815, -0.00366256, ..., -0.6664677 ,\n",
       "         0.08020157,  0.1685267 ],\n",
       "       [-0.41312626,  0.91319686, -0.0032885 , ..., -0.7744228 ,\n",
       "         0.08200419,  0.14547606]], shape=(300, 5060), dtype=float32)"
      ]
     },
     "execution_count": 18,
     "metadata": {},
     "output_type": "execute_result"
    }
   ],
   "source": [
    "pred_dict = scouter_model.pred(['ATP5B+ctrl', 'MANF+ctrl'])\n",
    "pred_dict['ATP5B+ctrl']"
   ]
  },
  {
   "cell_type": "markdown",
   "id": "fdd22a46-9c51-4ef3-8bdd-db4f7c3e49d2",
   "metadata": {},
   "source": [
    "## 5. Model Evaluation"
   ]
  },
  {
   "cell_type": "markdown",
   "id": "a552d507-cac2-4bfa-9811-2055aa3ba35c",
   "metadata": {},
   "source": [
    "For a given perturbation in the Testing set, `Scouter.barplot()` renders a barplot of its control, predicition, and true expression levels on top20 DEGs."
   ]
  },
  {
   "cell_type": "code",
   "execution_count": 19,
   "id": "dbb35049-0177-45d7-884b-dba50fa8e483",
   "metadata": {
    "scrolled": true
   },
   "outputs": [
    {
     "data": {
      "image/png": "[encoded data removed]",
      "text/plain": [
       "<Figure size 1500x800 with 1 Axes>"
      ]
     },
     "metadata": {},
     "output_type": "display_data"
    }
   ],
   "source": [
    "scouter_model.barplot('MANF+ctrl')"
   ]
  },
  {
   "cell_type": "code",
   "execution_count": null,
   "id": "67e11888-d5eb-4559-ad9d-5af690b6cb44",
   "metadata": {},
   "outputs": [],
   "source": []
  }
 ],
 "metadata": {
  "kernelspec": {
   "display_name": "Python 3 (ipykernel)",
   "language": "python",
   "name": "python3"
  },
  "language_info": {
   "codemirror_mode": {
    "name": "ipython",
    "version": 3
   },
   "file_extension": ".py",
   "mimetype": "text/x-python",
   "name": "python",
   "nbconvert_exporter": "python",
   "pygments_lexer": "ipython3",
   "version": "3.11.13"
  }
 },
 "nbformat": 4,
 "nbformat_minor": 5
}
